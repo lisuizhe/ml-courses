{
  "cells": [
    {
      "cell_type": "code",
      "execution_count": 1,
      "metadata": {
        "collapsed": false
      },
      "outputs": [],
      "source": [
        "%matplotlib inline"
      ]
    },
    {
      "cell_type": "markdown",
      "metadata": {},
      "source": [
        "\n",
        "[Learn the Basics](intro.html) ||\n",
        "[Quickstart](quickstart_tutorial.html) ||\n",
        "[Tensors](tensorqs_tutorial.html) ||\n",
        "[Datasets & DataLoaders](data_tutorial.html) ||\n",
        "[Transforms](transforms_tutorial.html) ||\n",
        "[Build Model](buildmodel_tutorial.html) ||\n",
        "[Autograd](autogradqs_tutorial.html) ||\n",
        "**Optimization** ||\n",
        "[Save & Load Model](saveloadrun_tutorial.html)\n",
        "\n",
        "# Optimizing Model Parameters\n",
        "\n",
        "Now that we have a model and data it's time to train, validate and test our model by optimizing its parameters on\n",
        "our data. Training a model is an iterative process; in each iteration (called an *epoch*) the model makes a guess about the output, calculates\n",
        "the error in its guess (*loss*), collects the derivatives of the error with respect to its parameters (as we saw in\n",
        "the [previous section](autograd_tutorial.html)), and **optimizes** these parameters using gradient descent. For a more\n",
        "detailed walkthrough of this process, check out this video on [backpropagation from 3Blue1Brown](https://www.youtube.com/watch?v=tIeHLnjs5U8)_.\n",
        "\n",
        "## Prerequisite Code\n",
        "We load the code from the previous sections on [Datasets & DataLoaders](data_tutorial.html)\n",
        "and [Build Model](buildmodel_tutorial.html).\n"
      ]
    },
    {
      "cell_type": "code",
      "execution_count": 2,
      "metadata": {
        "collapsed": false
      },
      "outputs": [],
      "source": [
        "import torch\n",
        "from torch import nn\n",
        "from torch.utils.data import DataLoader\n",
        "from torchvision import datasets\n",
        "from torchvision.transforms import ToTensor, Lambda\n",
        "\n",
        "training_data = datasets.FashionMNIST(\n",
        "    root=\"../data\",\n",
        "    train=True,\n",
        "    download=True,\n",
        "    transform=ToTensor()\n",
        ")\n",
        "\n",
        "test_data = datasets.FashionMNIST(\n",
        "    root=\"../data\",\n",
        "    train=False,\n",
        "    download=True,\n",
        "    transform=ToTensor()\n",
        ")\n",
        "\n",
        "train_dataloader = DataLoader(training_data, batch_size=64)\n",
        "test_dataloader = DataLoader(test_data, batch_size=64)\n",
        "\n",
        "class NeuralNetwork(nn.Module):\n",
        "    def __init__(self):\n",
        "        super(NeuralNetwork, self).__init__()\n",
        "        self.flatten = nn.Flatten()\n",
        "        self.linear_relu_stack = nn.Sequential(\n",
        "            nn.Linear(28*28, 512),\n",
        "            nn.ReLU(),\n",
        "            nn.Linear(512, 512),\n",
        "            nn.ReLU(),\n",
        "            nn.Linear(512, 10),\n",
        "        )\n",
        "\n",
        "    def forward(self, x):\n",
        "        x = self.flatten(x)\n",
        "        logits = self.linear_relu_stack(x)\n",
        "        return logits\n",
        "\n",
        "model = NeuralNetwork()"
      ]
    },
    {
      "cell_type": "markdown",
      "metadata": {},
      "source": [
        "## Hyperparameters\n",
        "\n",
        "Hyperparameters are adjustable parameters that let you control the model optimization process.\n",
        "Different hyperparameter values can impact model training and convergence rates\n",
        "([read more](https://pytorch.org/tutorials/beginner/hyperparameter_tuning_tutorial.html)_ about hyperparameter tuning)\n",
        "\n",
        "We define the following hyperparameters for training:\n",
        " - **Number of Epochs** - the number times to iterate over the dataset\n",
        " - **Batch Size** - the number of data samples propagated through the network before the parameters are updated\n",
        " - **Learning Rate** - how much to update models parameters at each batch/epoch. Smaller values yield slow learning speed, while large values may result in unpredictable behavior during training.\n",
        "\n",
        "\n"
      ]
    },
    {
      "cell_type": "code",
      "execution_count": 3,
      "metadata": {
        "collapsed": false
      },
      "outputs": [],
      "source": [
        "learning_rate = 1e-3\n",
        "batch_size = 64\n",
        "epochs = 5"
      ]
    },
    {
      "cell_type": "markdown",
      "metadata": {},
      "source": [
        "## Optimization Loop\n",
        "\n",
        "Once we set our hyperparameters, we can then train and optimize our model with an optimization loop. Each\n",
        "iteration of the optimization loop is called an **epoch**.\n",
        "\n",
        "Each epoch consists of two main parts:\n",
        " - **The Train Loop** - iterate over the training dataset and try to converge to optimal parameters.\n",
        " - **The Validation/Test Loop** - iterate over the test dataset to check if model performance is improving.\n",
        "\n",
        "Let's briefly familiarize ourselves with some of the concepts used in the training loop. Jump ahead to\n",
        "see the `full-impl-label` of the optimization loop.\n",
        "\n",
        "### Loss Function\n",
        "\n",
        "When presented with some training data, our untrained network is likely not to give the correct\n",
        "answer. **Loss function** measures the degree of dissimilarity of obtained result to the target value,\n",
        "and it is the loss function that we want to minimize during training. To calculate the loss we make a\n",
        "prediction using the inputs of our given data sample and compare it against the true data label value.\n",
        "\n",
        "Common loss functions include [nn.MSELoss](https://pytorch.org/docs/stable/generated/torch.nn.MSELoss.html#torch.nn.MSELoss) (Mean Square Error) for regression tasks, and\n",
        "[nn.NLLLoss](https://pytorch.org/docs/stable/generated/torch.nn.NLLLoss.html#torch.nn.NLLLoss) (Negative Log Likelihood) for classification.\n",
        "[nn.CrossEntropyLoss](https://pytorch.org/docs/stable/generated/torch.nn.CrossEntropyLoss.html#torch.nn.CrossEntropyLoss) combines ``nn.LogSoftmax`` and ``nn.NLLLoss``.\n",
        "\n",
        "We pass our model's output logits to ``nn.CrossEntropyLoss``, which will normalize the logits and compute the prediction error.\n",
        "\n"
      ]
    },
    {
      "cell_type": "code",
      "execution_count": 4,
      "metadata": {
        "collapsed": false
      },
      "outputs": [],
      "source": [
        "# Initialize the loss function\n",
        "loss_fn = nn.CrossEntropyLoss()"
      ]
    },
    {
      "cell_type": "markdown",
      "metadata": {},
      "source": [
        "### Optimizer\n",
        "\n",
        "Optimization is the process of adjusting model parameters to reduce model error in each training step. **Optimization algorithms** define how this process is performed (in this example we use Stochastic Gradient Descent).\n",
        "All optimization logic is encapsulated in  the ``optimizer`` object. Here, we use the SGD optimizer; additionally, there are many [different optimizers](https://pytorch.org/docs/stable/optim.html)\n",
        "available in PyTorch such as ADAM and RMSProp, that work better for different kinds of models and data.\n",
        "\n",
        "We initialize the optimizer by registering the model's parameters that need to be trained, and passing in the learning rate hyperparameter.\n",
        "\n"
      ]
    },
    {
      "cell_type": "code",
      "execution_count": 5,
      "metadata": {
        "collapsed": false
      },
      "outputs": [],
      "source": [
        "# optimizer = torch.optim.SGD(model.parameters(), lr=learning_rate)\n",
        "optimizer = torch.optim.Adam(model.parameters(), lr=learning_rate)"
      ]
    },
    {
      "cell_type": "markdown",
      "metadata": {},
      "source": [
        "Inside the training loop, optimization happens in three steps:\n",
        " * Call ``optimizer.zero_grad()`` to reset the gradients of model parameters. Gradients by default add up; to prevent double-counting, we explicitly zero them at each iteration.\n",
        " * Backpropagate the prediction loss with a call to ``loss.backward()``. PyTorch deposits the gradients of the loss w.r.t. each parameter.\n",
        " * Once we have our gradients, we call ``optimizer.step()`` to adjust the parameters by the gradients collected in the backward pass.\n",
        "\n"
      ]
    },
    {
      "cell_type": "markdown",
      "metadata": {},
      "source": [
        "\n",
        "## Full Implementation\n",
        "We define ``train_loop`` that loops over our optimization code, and ``test_loop`` that\n",
        "evaluates the model's performance against our test data.\n",
        "\n"
      ]
    },
    {
      "cell_type": "code",
      "execution_count": 6,
      "metadata": {
        "collapsed": false
      },
      "outputs": [],
      "source": [
        "def train_loop(dataloader, model, loss_fn, optimizer):\n",
        "    size = len(dataloader.dataset)\n",
        "    for batch, (X, y) in enumerate(dataloader):\n",
        "        # Compute prediction and loss\n",
        "        pred = model(X)\n",
        "        loss = loss_fn(pred, y)\n",
        "\n",
        "        # Backpropagation\n",
        "        optimizer.zero_grad()\n",
        "        loss.backward()\n",
        "        optimizer.step()\n",
        "\n",
        "        if batch % 100 == 0:\n",
        "            loss, current = loss.item(), batch * len(X)\n",
        "            print(f\"loss: {loss:>7f}  [{current:>5d}/{size:>5d}]\")\n",
        "\n",
        "\n",
        "def test_loop(dataloader, model, loss_fn):\n",
        "    size = len(dataloader.dataset)\n",
        "    num_batches = len(dataloader)\n",
        "    test_loss, correct = 0, 0\n",
        "\n",
        "    with torch.no_grad():\n",
        "        for X, y in dataloader:\n",
        "            pred = model(X)\n",
        "            test_loss += loss_fn(pred, y).item()\n",
        "            correct += (pred.argmax(1) == y).type(torch.float).sum().item()\n",
        "\n",
        "    test_loss /= num_batches\n",
        "    correct /= size\n",
        "    print(f\"Test Error: \\n Accuracy: {(100*correct):>0.1f}%, Avg loss: {test_loss:>8f} \\n\")"
      ]
    },
    {
      "cell_type": "markdown",
      "metadata": {},
      "source": [
        "We initialize the loss function and optimizer, and pass it to ``train_loop`` and ``test_loop``.\n",
        "Feel free to increase the number of epochs to track the model's improving performance.\n",
        "\n"
      ]
    },
    {
      "cell_type": "code",
      "execution_count": 7,
      "metadata": {
        "collapsed": false
      },
      "outputs": [
        {
          "name": "stdout",
          "output_type": "stream",
          "text": [
            "Epoch 1\n",
            "-------------------------------\n",
            "loss: 2.305590  [    0/60000]\n",
            "loss: 2.296394  [ 6400/60000]\n",
            "loss: 2.278013  [12800/60000]\n",
            "loss: 2.271001  [19200/60000]\n",
            "loss: 2.247678  [25600/60000]\n",
            "loss: 2.228077  [32000/60000]\n",
            "loss: 2.230051  [38400/60000]\n",
            "loss: 2.200201  [44800/60000]\n",
            "loss: 2.199841  [51200/60000]\n",
            "loss: 2.169283  [57600/60000]\n",
            "Test Error: \n",
            " Accuracy: 49.4%, Avg loss: 2.161017 \n",
            "\n",
            "Epoch 2\n",
            "-------------------------------\n",
            "loss: 2.176679  [    0/60000]\n",
            "loss: 2.167144  [ 6400/60000]\n",
            "loss: 2.110225  [12800/60000]\n",
            "loss: 2.120969  [19200/60000]\n",
            "loss: 2.067962  [25600/60000]\n",
            "loss: 2.019094  [32000/60000]\n",
            "loss: 2.038132  [38400/60000]\n",
            "loss: 1.965764  [44800/60000]\n",
            "loss: 1.972357  [51200/60000]\n",
            "loss: 1.902740  [57600/60000]\n",
            "Test Error: \n",
            " Accuracy: 56.6%, Avg loss: 1.894242 \n",
            "\n",
            "Epoch 3\n",
            "-------------------------------\n",
            "loss: 1.935155  [    0/60000]\n",
            "loss: 1.902715  [ 6400/60000]\n",
            "loss: 1.788931  [12800/60000]\n",
            "loss: 1.818902  [19200/60000]\n",
            "loss: 1.709085  [25600/60000]\n",
            "loss: 1.673809  [32000/60000]\n",
            "loss: 1.683503  [38400/60000]\n",
            "loss: 1.595130  [44800/60000]\n",
            "loss: 1.616388  [51200/60000]\n",
            "loss: 1.510580  [57600/60000]\n",
            "Test Error: \n",
            " Accuracy: 60.0%, Avg loss: 1.524827 \n",
            "\n",
            "Epoch 4\n",
            "-------------------------------\n",
            "loss: 1.597451  [    0/60000]\n",
            "loss: 1.560833  [ 6400/60000]\n",
            "loss: 1.414438  [12800/60000]\n",
            "loss: 1.474952  [19200/60000]\n",
            "loss: 1.360109  [25600/60000]\n",
            "loss: 1.360158  [32000/60000]\n",
            "loss: 1.364300  [38400/60000]\n",
            "loss: 1.299647  [44800/60000]\n",
            "loss: 1.332241  [51200/60000]\n",
            "loss: 1.232199  [57600/60000]\n",
            "Test Error: \n",
            " Accuracy: 63.4%, Avg loss: 1.255751 \n",
            "\n",
            "Epoch 5\n",
            "-------------------------------\n",
            "loss: 1.336174  [    0/60000]\n",
            "loss: 1.318140  [ 6400/60000]\n",
            "loss: 1.153501  [12800/60000]\n",
            "loss: 1.252748  [19200/60000]\n",
            "loss: 1.131652  [25600/60000]\n",
            "loss: 1.153705  [32000/60000]\n",
            "loss: 1.168991  [38400/60000]\n",
            "loss: 1.114511  [44800/60000]\n",
            "loss: 1.154158  [51200/60000]\n",
            "loss: 1.071416  [57600/60000]\n",
            "Test Error: \n",
            " Accuracy: 65.0%, Avg loss: 1.088357 \n",
            "\n",
            "Epoch 6\n",
            "-------------------------------\n",
            "loss: 1.162159  [    0/60000]\n",
            "loss: 1.164973  [ 6400/60000]\n",
            "loss: 0.980172  [12800/60000]\n",
            "loss: 1.115333  [19200/60000]\n",
            "loss: 0.988661  [25600/60000]\n",
            "loss: 1.015841  [32000/60000]\n",
            "loss: 1.049369  [38400/60000]\n",
            "loss: 0.995869  [44800/60000]\n",
            "loss: 1.037487  [51200/60000]\n",
            "loss: 0.972855  [57600/60000]\n",
            "Test Error: \n",
            " Accuracy: 66.0%, Avg loss: 0.981018 \n",
            "\n",
            "Epoch 7\n",
            "-------------------------------\n",
            "loss: 1.042228  [    0/60000]\n",
            "loss: 1.067439  [ 6400/60000]\n",
            "loss: 0.862045  [12800/60000]\n",
            "loss: 1.024223  [19200/60000]\n",
            "loss: 0.898334  [25600/60000]\n",
            "loss: 0.920592  [32000/60000]\n",
            "loss: 0.972474  [38400/60000]\n",
            "loss: 0.918746  [44800/60000]\n",
            "loss: 0.956994  [51200/60000]\n",
            "loss: 0.908583  [57600/60000]\n",
            "Test Error: \n",
            " Accuracy: 67.3%, Avg loss: 0.908797 \n",
            "\n",
            "Epoch 8\n",
            "-------------------------------\n",
            "loss: 0.954927  [    0/60000]\n",
            "loss: 1.000872  [ 6400/60000]\n",
            "loss: 0.778559  [12800/60000]\n",
            "loss: 0.959977  [19200/60000]\n",
            "loss: 0.838378  [25600/60000]\n",
            "loss: 0.852257  [32000/60000]\n",
            "loss: 0.919119  [38400/60000]\n",
            "loss: 0.867078  [44800/60000]\n",
            "loss: 0.899301  [51200/60000]\n",
            "loss: 0.863398  [57600/60000]\n",
            "Test Error: \n",
            " Accuracy: 68.5%, Avg loss: 0.857457 \n",
            "\n",
            "Epoch 9\n",
            "-------------------------------\n",
            "loss: 0.888350  [    0/60000]\n",
            "loss: 0.951880  [ 6400/60000]\n",
            "loss: 0.717161  [12800/60000]\n",
            "loss: 0.912357  [19200/60000]\n",
            "loss: 0.796072  [25600/60000]\n",
            "loss: 0.801672  [32000/60000]\n",
            "loss: 0.878830  [38400/60000]\n",
            "loss: 0.831118  [44800/60000]\n",
            "loss: 0.856573  [51200/60000]\n",
            "loss: 0.829157  [57600/60000]\n",
            "Test Error: \n",
            " Accuracy: 69.8%, Avg loss: 0.818852 \n",
            "\n",
            "Epoch 10\n",
            "-------------------------------\n",
            "loss: 0.835154  [    0/60000]\n",
            "loss: 0.912871  [ 6400/60000]\n",
            "loss: 0.670126  [12800/60000]\n",
            "loss: 0.875765  [19200/60000]\n",
            "loss: 0.764128  [25600/60000]\n",
            "loss: 0.763151  [32000/60000]\n",
            "loss: 0.846211  [38400/60000]\n",
            "loss: 0.804407  [44800/60000]\n",
            "loss: 0.823619  [51200/60000]\n",
            "loss: 0.801551  [57600/60000]\n",
            "Test Error: \n",
            " Accuracy: 71.0%, Avg loss: 0.788226 \n",
            "\n",
            "Done!\n"
          ]
        }
      ],
      "source": [
        "loss_fn = nn.CrossEntropyLoss()\n",
        "optimizer = torch.optim.SGD(model.parameters(), lr=learning_rate)\n",
        "\n",
        "epochs = 10\n",
        "for t in range(epochs):\n",
        "    print(f\"Epoch {t+1}\\n-------------------------------\")\n",
        "    train_loop(train_dataloader, model, loss_fn, optimizer)\n",
        "    test_loop(test_dataloader, model, loss_fn)\n",
        "print(\"Done!\")"
      ]
    },
    {
      "cell_type": "markdown",
      "metadata": {},
      "source": [
        "## Further Reading\n",
        "- [Loss Functions](https://pytorch.org/docs/stable/nn.html#loss-functions)\n",
        "- [torch.optim](https://pytorch.org/docs/stable/optim.html)\n",
        "- [Warmstart Training a Model](https://pytorch.org/tutorials/recipes/recipes/warmstarting_model_using_parameters_from_a_different_model.html)\n",
        "\n",
        "\n"
      ]
    }
  ],
  "metadata": {
    "kernelspec": {
      "display_name": "Python 3.10.6 64-bit",
      "language": "python",
      "name": "python3"
    },
    "language_info": {
      "codemirror_mode": {
        "name": "ipython",
        "version": 3
      },
      "file_extension": ".py",
      "mimetype": "text/x-python",
      "name": "python",
      "nbconvert_exporter": "python",
      "pygments_lexer": "ipython3",
      "version": "3.10.6"
    },
    "vscode": {
      "interpreter": {
        "hash": "aee8b7b246df8f9039afb4144a1f6fd8d2ca17a180786b69acc140d282b71a49"
      }
    }
  },
  "nbformat": 4,
  "nbformat_minor": 0
}
